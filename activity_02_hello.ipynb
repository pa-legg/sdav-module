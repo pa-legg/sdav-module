{
  "cells": [
    {
      "cell_type": "markdown",
      "metadata": {
        "id": "view-in-github",
        "colab_type": "text"
      },
      "source": [
        "<a href=\"https://colab.research.google.com/github/pa-legg/sdav-module/blob/main/activity_02_hello.ipynb\" target=\"_parent\"><img src=\"https://colab.research.google.com/assets/colab-badge.svg\" alt=\"Open In Colab\"/></a>"
      ]
    },
    {
      "cell_type": "markdown",
      "metadata": {
        "id": "X9yIKXnghvYy"
      },
      "source": [
        "# Activity 2 - Hello, Security Analytics\n",
        "\n",
        "For this “Hello World” example, you are working on a problem given to you by the manager of the Security Operations Center (SOC). It seems the SOC analysts are becoming inundated with “trivial” alerts ever since a new data set of indicators was introduced into the Security Information and Event Management (SIEM) system. They have asked for your help in reducing the number of “trivial” alerts with- out sacrificing visibility.\n",
        "\n",
        "This is a good problem to tackle through data analysis, and we should be able to form a solid, practical question to ask after we perform some exploratory data analysis and hopefully arrive at an answer that helps out the SOC."
      ]
    },
    {
      "cell_type": "markdown",
      "metadata": {
        "id": "oYItaApphvZA"
      },
      "source": [
        "## Loading in Data"
      ]
    },
    {
      "cell_type": "code",
      "execution_count": null,
      "metadata": {
        "id": "CBXEJs7ghvZB"
      },
      "outputs": [],
      "source": [
        "import pandas as pd\n",
        "import sys\n",
        "# read in the data into a pandas data frame\n",
        "avRep = \"./data/reputation.data\"\n",
        "av = pd.read_csv(avRep, sep=\"#\", header=None)\n",
        "\n",
        "# make smarter column names\n",
        "av.columns = [\"IP\",\"Reliability\",\"Risk\",\"Type\",\"Country\",\n",
        "              \"Locale\",\"Coords\",\"x\"]\n",
        "print (av)"
      ]
    },
    {
      "cell_type": "code",
      "execution_count": null,
      "metadata": {
        "id": "NbcZmEe1hvZC"
      },
      "outputs": [],
      "source": [
        "av.head().to_csv(sys.stdout)"
      ]
    },
    {
      "cell_type": "code",
      "execution_count": null,
      "metadata": {
        "id": "Tx53AluBhvZC"
      },
      "outputs": [],
      "source": [
        "from IPython.display import HTML \n",
        "# display the first 10 lines of the dataframe as formatted HTML\n",
        "HTML(av.head(10).to_html())\n",
        "\n",
        "### This is actually deprecated - we can instead just say 'av' to see this output"
      ]
    },
    {
      "cell_type": "code",
      "execution_count": null,
      "metadata": {
        "id": "taYR412ahvZC"
      },
      "outputs": [],
      "source": [
        "av"
      ]
    },
    {
      "cell_type": "markdown",
      "metadata": {
        "id": "J3Hb6m95hvZD"
      },
      "source": [
        "Above we have looked at how you can load in a dataset, and then how you can print this in the notebook - either using **print()**, or the **HTML** function, or simply by giving the variable as the last command in the cell.\n",
        "\n",
        "Before going any deeper lets just look at the data so that we know what we are working with:\n",
        "\n",
        "- Reliability, Risk, and x are integers.\n",
        "\n",
        "- IP, Type, Country, Locale, and Coords are character strings.\n",
        "\n",
        "- The IP address is stored in the dotted-quad notation, not in hostnames or decimal format.\n",
        "\n",
        "- Each record is associated with a unique IP address, so there are 258,626 IP addresses (in this download).\n",
        "\n",
        "- Each IP address has been geo-located into the latitude and longitude pair in the Coords field, but they are in a single field separated by a comma. You will have to parse that further if you want to use that field."
      ]
    },
    {
      "cell_type": "markdown",
      "metadata": {
        "id": "sBuUDsFbhvZD"
      },
      "source": [
        "Descriptive Statistics\n",
        "---\n",
        "\n",
        "What do we mean by descriptive statistics? As the name suggests, these essential describe the properties of our data. They help for summarisation, and for providing easier forms of comparison when consider two groups of data. You will likely be familiar with some of these concepts, but nevertheless, it is important to think further about how they can be used to summarise a data set (and also, if there are any potential issues are with using them and how we can overcome these?)\n",
        "\n",
        "Commonly used descriptive statistics include:\n",
        "\n",
        "- Minimum and maximum values; taking the difference of these will give you the range (range = max - min)\n",
        "- Median (the value at the middle of the dataset)\n",
        "- First and third quartiles (the 25th and 75th percentiles, or you could think of it as the median value of the first and last halves of the data, respectively)\n",
        "- Mean (sum of all  values divided by the number of count)\n",
        "\n",
        "Whilst we can calculate these \"in code\", or use in-built functions such as **np.mean()**, Pandas provides a convenient **describe()** function that will perform all of these together."
      ]
    },
    {
      "cell_type": "code",
      "execution_count": null,
      "metadata": {
        "id": "x6R0wWiEhvZE"
      },
      "outputs": [],
      "source": [
        "av['Reliability'].describe()"
      ]
    },
    {
      "cell_type": "code",
      "execution_count": null,
      "metadata": {
        "id": "hw0jMZQ1hvZE"
      },
      "outputs": [],
      "source": [
        "av['Risk'].describe()"
      ]
    },
    {
      "cell_type": "markdown",
      "metadata": {
        "id": "_beebwBphvZE"
      },
      "source": [
        "Above, note how we can select the specific column using **av['Reliability']** or **av['Risk']**.\n",
        "\n",
        "An important note to make (from the Alienvault documentation) is that Risk and Reliability are scored 1-10, however these are ordinal values rather than numerical.\n",
        "\n",
        "What does this mean? Essentially, ordinal values denote order, however they are not quantities. Therefore, a score of 4 is not specifically twice the risk of 2, however it is greater."
      ]
    },
    {
      "cell_type": "code",
      "execution_count": null,
      "metadata": {
        "id": "PIUAUDCkhvZF"
      },
      "outputs": [],
      "source": [
        "def factor_col(col):\n",
        "    factor = pd.Categorical(col)\n",
        "    return pd.value_counts(factor,sort=False)\n",
        "\n",
        "rel_ct = pd.value_counts(av['Reliability'])\n",
        "risk_ct = pd.value_counts(av['Risk'])\n",
        "type_ct = pd.value_counts(av['Type'])\n",
        "country_ct = pd.value_counts(av['Country'])\n",
        "\n",
        "print (factor_col(av['Reliability']))\n",
        "\n",
        "print (factor_col(av['Risk']))\n",
        "\n",
        "print (factor_col(av['Type']).head(n=10))\n",
        "\n",
        "print (factor_col(av['Country']).head(n=10))"
      ]
    },
    {
      "cell_type": "markdown",
      "metadata": {
        "id": "_efgm-M0hvZF"
      },
      "source": [
        "Above, we define our own function called **factor_col()** that will essentially identify all possible values within a given dataset, and count the number of occurrence for each. A similar function Pandas can called using **group_by**."
      ]
    },
    {
      "cell_type": "markdown",
      "metadata": {
        "id": "Geb7ljlwhvZG"
      },
      "source": [
        "## Ploting our data"
      ]
    },
    {
      "cell_type": "code",
      "execution_count": null,
      "metadata": {
        "id": "Rc0JnbYihvZG"
      },
      "outputs": [],
      "source": [
        "import matplotlib.pyplot as plt\n",
        "import seaborn as sb\n",
        "%matplotlib inline\n",
        "\n",
        "# sort by country\n",
        "country_ct = pd.value_counts(av['Country'])\n",
        "\n",
        "# plot the data\n",
        "plt.axes(frameon=0) # reduce chart junk\n",
        "country_ct[:20].plot(kind='bar', \n",
        "   rot=0, title=\"Summary By Country\", figsize=(20,10)).grid(False)\n",
        "plt.show()"
      ]
    },
    {
      "cell_type": "code",
      "execution_count": null,
      "metadata": {
        "id": "aCaV8y3OhvZG"
      },
      "outputs": [],
      "source": [
        "plt.axes(frameon=0) # reduce chart junk\n",
        "factor_col(av['Reliability']).plot(kind='bar', rot=0,\n",
        "           title=\"Summary By 'Reliability'\", figsize=(20,10)).grid(False)\n",
        "plt.show()"
      ]
    },
    {
      "cell_type": "code",
      "execution_count": null,
      "metadata": {
        "id": "1o2ikz7dhvZG"
      },
      "outputs": [],
      "source": [
        "plt.axes(frameon=0) # reduce chart junk\n",
        "factor_col(av['Risk']).plot(kind='bar', rot=0, \n",
        "           title=\"Summary By 'Risk'\", figsize=(20,10)).grid(False)\n",
        "plt.show()"
      ]
    },
    {
      "cell_type": "markdown",
      "metadata": {
        "id": "Z-jMkGvxhvZH"
      },
      "source": [
        "Above, we have created bar plots that show the values for each attribute, allowing us to examine these in greater detail."
      ]
    },
    {
      "cell_type": "code",
      "execution_count": null,
      "metadata": {
        "id": "YdHbBT-8hvZH"
      },
      "outputs": [],
      "source": [
        "top10 = pd.value_counts(av['Country'])[0:9] \n",
        "# calculate the % for each of the top 10\n",
        "top10.astype(float) / len(av['Country'])"
      ]
    },
    {
      "cell_type": "markdown",
      "metadata": {
        "id": "HTs0bK6ChvZH"
      },
      "source": [
        "Note that above, we have divided through by the **length** of the Country column, essentially giving a percentage of countries rather than absolute counts."
      ]
    },
    {
      "cell_type": "markdown",
      "metadata": {
        "id": "PNWLI8ZPhvZH"
      },
      "source": [
        "## Further Exploration"
      ]
    },
    {
      "cell_type": "markdown",
      "metadata": {
        "id": "_37PHywKhvZH"
      },
      "source": [
        "Perhaps we want to look at both risk and reliability together? We can use a crosstab to achieve this."
      ]
    },
    {
      "cell_type": "code",
      "execution_count": null,
      "metadata": {
        "id": "Sr6sqDaVhvZI"
      },
      "outputs": [],
      "source": [
        "from matplotlib import cm\n",
        "from numpy import arange\n",
        "\n",
        "print(pd.crosstab(av['Risk'], av['Reliability']).to_string())"
      ]
    },
    {
      "cell_type": "code",
      "execution_count": null,
      "metadata": {
        "id": "MnRi84yihvZI"
      },
      "outputs": [],
      "source": [
        "# graphical view of contingency table (swapping risk/reliability)\n",
        "xtab = pd.crosstab(av['Reliability'], av['Risk'])\n",
        "fig = plt.figure(figsize=(5,5))\n",
        "plt.pcolormesh(xtab,cmap=cm.Greens, figure=fig)\n",
        "plt.yticks(arange(0.5,len(xtab.index), 1),xtab.index)\n",
        "plt.xticks(arange(0.5,len(xtab.columns), 1),xtab.columns)\n",
        "plt.colorbar()\n",
        "plt.title(\"Risk ~ Reliability\")\n",
        "plt.show()"
      ]
    },
    {
      "cell_type": "markdown",
      "metadata": {
        "id": "PtL1p8nYhvZI"
      },
      "source": [
        "Ok, so this starts to highlight some interesting details about risk and reliability however it is lacking in context - can we identify risk/reliability against each type of alert as observed in the SOC? Let's try below."
      ]
    },
    {
      "cell_type": "code",
      "execution_count": null,
      "metadata": {
        "id": "xLdvcd1OhvZI"
      },
      "outputs": [],
      "source": [
        "# Listing 3-23\n",
        "# require object: av (3-5)\n",
        "# See corresponding output in Figure 3-9\n",
        "# compute contingency table for Risk/Reliability factors which \n",
        "# produces a matrix of counts of rows that have attributes at\n",
        "\n",
        "# create new column as a copy of Type column\n",
        "av['newtype'] = av['Type']\n",
        "\n",
        "# replace multi-Type entries with “Multiples”\n",
        "av[av['newtype'].str.contains(\";\")] = \"Multiples\"\n",
        "\n",
        "# setup new crosstab structures\n",
        "typ = av['newtype']\n",
        "rel = av['Reliability']\n",
        "rsk = av['Risk']\n",
        "\n",
        "# compute crosstab making it split on the\n",
        "# new “type” column\n",
        "xtab = pd.crosstab(typ, [ rel, rsk ], rownames=['typ'], colnames=['rel', 'rsk'])\n",
        "\n",
        "\n",
        "\n",
        "# the following print statement will show a huge text\n",
        "# representation of the contingency table. The output\n",
        "# is too large for the book, but is worth looking at \n",
        "# as you run through the exercise to see how useful \n",
        "# visualizations can be over raw text/numeric output\n",
        "\n",
        "print (xtab.to_string())\n"
      ]
    },
    {
      "cell_type": "markdown",
      "metadata": {
        "id": "L4T0lI6KhvZJ"
      },
      "source": [
        "This data is difficult to observe in tabular form - as discussed, there is simply too much and it is nested which also makes it challenging to follow. \n",
        "\n",
        "Instead, let's consider a bar chart."
      ]
    },
    {
      "cell_type": "code",
      "execution_count": null,
      "metadata": {
        "id": "wuG_IU4ShvZJ"
      },
      "outputs": [],
      "source": [
        "xtab.plot(kind='bar',legend=False, title=\"Risk ~ Reliabilty | Type\", figsize=(20,10)).grid(False)\n",
        "plt.show()"
      ]
    },
    {
      "cell_type": "markdown",
      "metadata": {
        "id": "xVJ3bvC3hvZJ"
      },
      "source": [
        "Excellent! We have a bar chart that shows the combined risk/reliability measures against each type of SOC alert. This starts to look useful. However, perhaps we want to exclude Scanning Host - we expect this behaviour on our network and showing this is making it harder to observe other details about the data. Let's exclude this next."
      ]
    },
    {
      "cell_type": "code",
      "execution_count": null,
      "metadata": {
        "id": "Q9KWRWadhvZJ"
      },
      "outputs": [],
      "source": [
        "# Here we remove Scanning Host\n",
        "rrt_df = av[av['newtype'] != \"Scanning Host\"]\n",
        "\n",
        "# And then we do the chart again\n",
        "typ = rrt_df['newtype']\n",
        "rel = rrt_df['Reliability']\n",
        "rsk = rrt_df['Risk']\n",
        "xtab = pd.crosstab(typ, [ rel, rsk ], \n",
        "       rownames=['typ'], colnames=['rel', 'rsk'])\n",
        "xtab.plot(kind='bar',legend=False, \n",
        "   title=\"Risk ~ Reliabilty | Type\", figsize=(20,10)).grid(False)\n",
        "plt.show()\n"
      ]
    },
    {
      "cell_type": "markdown",
      "metadata": {
        "id": "jeNPvYJYhvZJ"
      },
      "source": [
        "Ok this looks more interesting now. We see Malware Domain and Malware distribution cropping up, which would make sense - however we may not necessarily be interested in these for this particular story. Let's exclude these and see what we are left with."
      ]
    },
    {
      "cell_type": "code",
      "execution_count": null,
      "metadata": {
        "id": "aIfSUS4_hvZK"
      },
      "outputs": [],
      "source": [
        "rrt_df = rrt_df[rrt_df['newtype'] != \"Malware distribution\" ]\n",
        "rrt_df = rrt_df[rrt_df['newtype'] != \"Malware Domain\" ]\n",
        "typ = rrt_df['newtype']\n",
        "rel = rrt_df['Reliability']\n",
        "rsk = rrt_df['Risk']\n",
        "xtab = pd.crosstab(typ, [ rel, rsk ],\n",
        "        rownames=['typ'], colnames=['rel', 'rsk'])\n",
        "\n",
        "print (\"Count: %d; Percent: %2.1f%%\" % (len(rrt_df), (float(len(rrt_df))\n",
        "   / len(av)) * 100))\n",
        "## Count: 15171; Percent: 5.9%\n",
        "\n",
        "xtab.plot(kind='bar',legend=False, title=\"Risk ~ Reliabilty | Type\", figsize=(20,10)).grid(False)\n",
        "\n",
        "plt.show()\n",
        "\n",
        "xtab"
      ]
    },
    {
      "cell_type": "markdown",
      "metadata": {
        "id": "b-crEvemhvZK"
      },
      "source": [
        "We have now managed to filter our data down to reveal aspects about malware IP, malicious hosts, as well as command and control servers, spamming addresses, and multiples (which would require a separate investigation). Importantly, we can gain more insight into these now, and we have worked logically through to filter unnecessary information for our story - we now want to learn more about the malware IPs since there are a great number of these. Also worth noting, we are now working with 5.9% of our original data (15171 rows) making it much more manageable to explore and find relavent details, rather than being inudated with irrelavent information. Our SOC team were struggling with the number of alerts they were dealing with - this workflow would allow them to manage the alerts much more effectively, and concentrate on the key details of interest.\n",
        "\n",
        "Having developed this in a Notebook for the purpose of exploration, we could easier export this as a Python script that would run periodically to filter our alerts as needed.\n",
        "\n",
        "This example should help to demonstrate the benefit of interactive analysis of the data, and how this can be used to rapidly design a suitable analysis workflow for deployment."
      ]
    },
    {
      "cell_type": "code",
      "execution_count": null,
      "metadata": {
        "id": "Z7-Y-Z8chvZK"
      },
      "outputs": [],
      "source": []
    },
    {
      "cell_type": "code",
      "execution_count": null,
      "metadata": {
        "id": "yyTikUi_hvZK"
      },
      "outputs": [],
      "source": []
    }
  ],
  "metadata": {
    "kernelspec": {
      "display_name": "Python 3 (ipykernel)",
      "language": "python",
      "name": "python3"
    },
    "language_info": {
      "codemirror_mode": {
        "name": "ipython",
        "version": 3
      },
      "file_extension": ".py",
      "mimetype": "text/x-python",
      "name": "python",
      "nbconvert_exporter": "python",
      "pygments_lexer": "ipython3",
      "version": "3.9.7"
    },
    "colab": {
      "provenance": [],
      "include_colab_link": true
    }
  },
  "nbformat": 4,
  "nbformat_minor": 0
}