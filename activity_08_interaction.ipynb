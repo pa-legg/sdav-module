{
  "cells": [
    {
      "cell_type": "markdown",
      "metadata": {
        "id": "view-in-github",
        "colab_type": "text"
      },
      "source": [
        "<a href=\"https://colab.research.google.com/github/pa-legg/sdav-module/blob/main/activity_08_interaction.ipynb\" target=\"_parent\"><img src=\"https://colab.research.google.com/assets/colab-badge.svg\" alt=\"Open In Colab\"/></a>"
      ]
    },
    {
      "cell_type": "markdown",
      "metadata": {
        "id": "Tok09GCsiWj4"
      },
      "source": [
        "# Activity 8 - Interaction and Animation\n",
        "\n",
        "We saw in our previous notebook how to create visualisations using matplotlib, seaborn, and pandas - however, in most cases these were static. We did get some interaction through the 3D plots and through using the Plotly library. Here, we are going to pursue this further, and look at how we can incorporate interaction and animation into our tools.\n",
        "\n",
        "In particular, interaction techniques are useful for creatng dashboards (visual analytics) interfaces. Animations can be useful for conveying the story, by linking multiple still images together or by showing the analytical process.\n",
        "\n",
        "In this example notebook, we demonstrate how to create interactive widgets that can be used to filter data from a dataframe, either based on range selection or by item selection. We also demonstrate how an animated GIF can be constructed by taking frames of a plot to build an animation. We use a live data set based on COVID-19 to illustrate the concepts in this notebook.\n",
        "\n",
        "Further details are in the following blog post: https://towardsdatascience.com/interactive-controls-for-jupyter-notebooks-f5c94829aee6"
      ]
    },
    {
      "cell_type": "code",
      "execution_count": null,
      "metadata": {
        "id": "8xWLox92iWj7"
      },
      "outputs": [],
      "source": [
        "import pandas as pd\n",
        "from datetime import datetime, timedelta\n",
        "import matplotlib.pyplot as plt"
      ]
    },
    {
      "cell_type": "code",
      "execution_count": null,
      "metadata": {
        "id": "05LY5RyeiWj8",
        "outputId": "96883c35-f670-451d-cbdb-edab9bbaf4dc"
      },
      "outputs": [
        {
          "name": "stdout",
          "output_type": "stream",
          "text": [
            "Requirement already satisfied: ipywidgets in c:\\python39\\lib\\site-packages (7.6.5)\n",
            "Requirement already satisfied: nbformat>=4.2.0 in c:\\python39\\lib\\site-packages (from ipywidgets) (5.1.3)\n",
            "Requirement already satisfied: widgetsnbextension~=3.5.0 in c:\\python39\\lib\\site-packages (from ipywidgets) (3.5.2)\n",
            "Requirement already satisfied: ipykernel>=4.5.1 in c:\\python39\\lib\\site-packages (from ipywidgets) (6.5.0)\n",
            "Requirement already satisfied: ipython-genutils~=0.2.0 in c:\\python39\\lib\\site-packages (from ipywidgets) (0.2.0)\n",
            "Requirement already satisfied: ipython>=4.0.0 in c:\\python39\\lib\\site-packages (from ipywidgets) (7.29.0)\n",
            "Requirement already satisfied: traitlets>=4.3.1 in c:\\python39\\lib\\site-packages (from ipywidgets) (5.1.1)\n",
            "Requirement already satisfied: jupyterlab-widgets>=1.0.0 in c:\\python39\\lib\\site-packages (from ipywidgets) (1.0.2)\n",
            "Requirement already satisfied: debugpy<2.0,>=1.0.0 in c:\\python39\\lib\\site-packages (from ipykernel>=4.5.1->ipywidgets) (1.5.1)\n",
            "Requirement already satisfied: tornado<7.0,>=4.2 in c:\\python39\\lib\\site-packages (from ipykernel>=4.5.1->ipywidgets) (6.1)\n",
            "Requirement already satisfied: matplotlib-inline<0.2.0,>=0.1.0 in c:\\python39\\lib\\site-packages (from ipykernel>=4.5.1->ipywidgets) (0.1.3)\n",
            "Requirement already satisfied: jupyter-client<8.0 in c:\\python39\\lib\\site-packages (from ipykernel>=4.5.1->ipywidgets) (7.0.6)\n",
            "Requirement already satisfied: decorator in c:\\python39\\lib\\site-packages (from ipython>=4.0.0->ipywidgets) (4.4.2)\n",
            "Requirement already satisfied: pygments in c:\\python39\\lib\\site-packages (from ipython>=4.0.0->ipywidgets) (2.10.0)\n",
            "Requirement already satisfied: prompt-toolkit!=3.0.0,!=3.0.1,<3.1.0,>=2.0.0 in c:\\python39\\lib\\site-packages (from ipython>=4.0.0->ipywidgets) (3.0.22)\n",
            "Requirement already satisfied: setuptools>=18.5 in c:\\python39\\lib\\site-packages (from ipython>=4.0.0->ipywidgets) (57.4.0)\n",
            "Requirement already satisfied: backcall in c:\\python39\\lib\\site-packages (from ipython>=4.0.0->ipywidgets) (0.2.0)\n",
            "Requirement already satisfied: colorama in c:\\python39\\lib\\site-packages (from ipython>=4.0.0->ipywidgets) (0.4.4)\n",
            "Requirement already satisfied: jedi>=0.16 in c:\\python39\\lib\\site-packages (from ipython>=4.0.0->ipywidgets) (0.18.0)\n",
            "Requirement already satisfied: pickleshare in c:\\python39\\lib\\site-packages (from ipython>=4.0.0->ipywidgets) (0.7.5)\n",
            "Requirement already satisfied: jsonschema!=2.5.0,>=2.4 in c:\\python39\\lib\\site-packages (from nbformat>=4.2.0->ipywidgets) (3.2.0)\n",
            "Requirement already satisfied: jupyter-core in c:\\python39\\lib\\site-packages (from nbformat>=4.2.0->ipywidgets) (4.9.1)\n",
            "Requirement already satisfied: notebook>=4.4.1 in c:\\python39\\lib\\site-packages (from widgetsnbextension~=3.5.0->ipywidgets) (6.4.5)\n",
            "Requirement already satisfied: parso<0.9.0,>=0.8.0 in c:\\python39\\lib\\site-packages (from jedi>=0.16->ipython>=4.0.0->ipywidgets) (0.8.2)\n",
            "Requirement already satisfied: six>=1.11.0 in c:\\python39\\lib\\site-packages (from jsonschema!=2.5.0,>=2.4->nbformat>=4.2.0->ipywidgets) (1.16.0)\n",
            "Requirement already satisfied: pyrsistent>=0.14.0 in c:\\python39\\lib\\site-packages (from jsonschema!=2.5.0,>=2.4->nbformat>=4.2.0->ipywidgets) (0.18.0)\n",
            "Requirement already satisfied: attrs>=17.4.0 in c:\\python39\\lib\\site-packages (from jsonschema!=2.5.0,>=2.4->nbformat>=4.2.0->ipywidgets) (21.2.0)\n",
            "Requirement already satisfied: nest-asyncio>=1.5 in c:\\python39\\lib\\site-packages (from jupyter-client<8.0->ipykernel>=4.5.1->ipywidgets) (1.5.1)\n",
            "Requirement already satisfied: python-dateutil>=2.1 in c:\\python39\\lib\\site-packages (from jupyter-client<8.0->ipykernel>=4.5.1->ipywidgets) (2.8.2)\n",
            "Requirement already satisfied: entrypoints in c:\\python39\\lib\\site-packages (from jupyter-client<8.0->ipykernel>=4.5.1->ipywidgets) (0.3)\n",
            "Requirement already satisfied: pyzmq>=13 in c:\\python39\\lib\\site-packages (from jupyter-client<8.0->ipykernel>=4.5.1->ipywidgets) (22.3.0)\n",
            "Requirement already satisfied: pywin32>=1.0 in c:\\python39\\lib\\site-packages (from jupyter-core->nbformat>=4.2.0->ipywidgets) (302)\n",
            "Requirement already satisfied: argon2-cffi in c:\\python39\\lib\\site-packages (from notebook>=4.4.1->widgetsnbextension~=3.5.0->ipywidgets) (21.1.0)\n",
            "Requirement already satisfied: terminado>=0.8.3 in c:\\python39\\lib\\site-packages (from notebook>=4.4.1->widgetsnbextension~=3.5.0->ipywidgets) (0.12.1)\n",
            "Requirement already satisfied: jinja2 in c:\\python39\\lib\\site-packages (from notebook>=4.4.1->widgetsnbextension~=3.5.0->ipywidgets) (3.0.3)\n",
            "Requirement already satisfied: Send2Trash>=1.5.0 in c:\\python39\\lib\\site-packages (from notebook>=4.4.1->widgetsnbextension~=3.5.0->ipywidgets) (1.8.0)\n",
            "Requirement already satisfied: prometheus-client in c:\\python39\\lib\\site-packages (from notebook>=4.4.1->widgetsnbextension~=3.5.0->ipywidgets) (0.12.0)\n",
            "Requirement already satisfied: nbconvert in c:\\python39\\lib\\site-packages (from notebook>=4.4.1->widgetsnbextension~=3.5.0->ipywidgets) (6.3.0)\n",
            "Requirement already satisfied: wcwidth in c:\\python39\\lib\\site-packages (from prompt-toolkit!=3.0.0,!=3.0.1,<3.1.0,>=2.0.0->ipython>=4.0.0->ipywidgets) (0.2.5)\n",
            "Requirement already satisfied: pywinpty>=1.1.0 in c:\\python39\\lib\\site-packages (from terminado>=0.8.3->notebook>=4.4.1->widgetsnbextension~=3.5.0->ipywidgets) (1.1.5)\n",
            "Requirement already satisfied: cffi>=1.0.0 in c:\\python39\\lib\\site-packages (from argon2-cffi->notebook>=4.4.1->widgetsnbextension~=3.5.0->ipywidgets) (1.15.0)\n",
            "Requirement already satisfied: MarkupSafe>=2.0 in c:\\python39\\lib\\site-packages (from jinja2->notebook>=4.4.1->widgetsnbextension~=3.5.0->ipywidgets) (2.0.1)\n",
            "Requirement already satisfied: bleach in c:\\python39\\lib\\site-packages (from nbconvert->notebook>=4.4.1->widgetsnbextension~=3.5.0->ipywidgets) (4.1.0)\n",
            "Requirement already satisfied: jupyterlab-pygments in c:\\python39\\lib\\site-packages (from nbconvert->notebook>=4.4.1->widgetsnbextension~=3.5.0->ipywidgets) (0.1.2)\n",
            "Requirement already satisfied: defusedxml in c:\\python39\\lib\\site-packages (from nbconvert->notebook>=4.4.1->widgetsnbextension~=3.5.0->ipywidgets) (0.7.1)\n",
            "Requirement already satisfied: testpath in c:\\python39\\lib\\site-packages (from nbconvert->notebook>=4.4.1->widgetsnbextension~=3.5.0->ipywidgets) (0.5.0)\n",
            "Requirement already satisfied: mistune<2,>=0.8.1 in c:\\python39\\lib\\site-packages (from nbconvert->notebook>=4.4.1->widgetsnbextension~=3.5.0->ipywidgets) (0.8.4)\n",
            "Requirement already satisfied: pandocfilters>=1.4.1 in c:\\python39\\lib\\site-packages (from nbconvert->notebook>=4.4.1->widgetsnbextension~=3.5.0->ipywidgets) (1.5.0)\n",
            "Requirement already satisfied: nbclient<0.6.0,>=0.5.0 in c:\\python39\\lib\\site-packages (from nbconvert->notebook>=4.4.1->widgetsnbextension~=3.5.0->ipywidgets) (0.5.8)\n",
            "Requirement already satisfied: pycparser in c:\\python39\\lib\\site-packages (from cffi>=1.0.0->argon2-cffi->notebook>=4.4.1->widgetsnbextension~=3.5.0->ipywidgets) (2.21)\n",
            "Requirement already satisfied: packaging in c:\\python39\\lib\\site-packages (from bleach->nbconvert->notebook>=4.4.1->widgetsnbextension~=3.5.0->ipywidgets) (21.2)\n",
            "Requirement already satisfied: webencodings in c:\\python39\\lib\\site-packages (from bleach->nbconvert->notebook>=4.4.1->widgetsnbextension~=3.5.0->ipywidgets) (0.5.1)\n",
            "Requirement already satisfied: pyparsing<3,>=2.0.2 in c:\\python39\\lib\\site-packages (from packaging->bleach->nbconvert->notebook>=4.4.1->widgetsnbextension~=3.5.0->ipywidgets) (2.4.7)\n"
          ]
        }
      ],
      "source": [
        "!pip install ipywidgets"
      ]
    },
    {
      "cell_type": "code",
      "execution_count": null,
      "metadata": {
        "id": "tQ2T0NNsiWj9"
      },
      "outputs": [],
      "source": [
        "import ipywidgets as widgets\n",
        "from ipywidgets import interact, interact_manual"
      ]
    },
    {
      "cell_type": "code",
      "execution_count": null,
      "metadata": {
        "id": "Co0a680NiWj9",
        "outputId": "d29fa941-e401-4421-ab13-78176651578b"
      },
      "outputs": [
        {
          "data": {
            "text/html": [
              "<div>\n",
              "<style scoped>\n",
              "    .dataframe tbody tr th:only-of-type {\n",
              "        vertical-align: middle;\n",
              "    }\n",
              "\n",
              "    .dataframe tbody tr th {\n",
              "        vertical-align: top;\n",
              "    }\n",
              "\n",
              "    .dataframe thead th {\n",
              "        text-align: right;\n",
              "    }\n",
              "</style>\n",
              "<table border=\"1\" class=\"dataframe\">\n",
              "  <thead>\n",
              "    <tr style=\"text-align: right;\">\n",
              "      <th></th>\n",
              "      <th>Area name</th>\n",
              "      <th>Area code</th>\n",
              "      <th>Area type</th>\n",
              "      <th>Specimen date</th>\n",
              "      <th>Daily lab-confirmed cases</th>\n",
              "      <th>Cumulative lab-confirmed cases</th>\n",
              "      <th>Cumulative lab-confirmed cases rate</th>\n",
              "    </tr>\n",
              "  </thead>\n",
              "  <tbody>\n",
              "    <tr>\n",
              "      <th>0</th>\n",
              "      <td>Stoke-on-Trent</td>\n",
              "      <td>E06000021</td>\n",
              "      <td>ltla</td>\n",
              "      <td>2021-04-26</td>\n",
              "      <td>5</td>\n",
              "      <td>20083</td>\n",
              "      <td>7833.4</td>\n",
              "    </tr>\n",
              "    <tr>\n",
              "      <th>1</th>\n",
              "      <td>Staffordshire Moorlands</td>\n",
              "      <td>E07000198</td>\n",
              "      <td>ltla</td>\n",
              "      <td>2021-04-26</td>\n",
              "      <td>5</td>\n",
              "      <td>5351</td>\n",
              "      <td>5436.1</td>\n",
              "    </tr>\n",
              "    <tr>\n",
              "      <th>2</th>\n",
              "      <td>Hackney and City of London</td>\n",
              "      <td>E09000012</td>\n",
              "      <td>ltla</td>\n",
              "      <td>2021-04-26</td>\n",
              "      <td>5</td>\n",
              "      <td>21672</td>\n",
              "      <td>7451.5</td>\n",
              "    </tr>\n",
              "    <tr>\n",
              "      <th>3</th>\n",
              "      <td>Staffordshire Moorlands</td>\n",
              "      <td>E07000198</td>\n",
              "      <td>ltla</td>\n",
              "      <td>2021-04-25</td>\n",
              "      <td>6</td>\n",
              "      <td>5346</td>\n",
              "      <td>5431.0</td>\n",
              "    </tr>\n",
              "    <tr>\n",
              "      <th>4</th>\n",
              "      <td>Newark and Sherwood</td>\n",
              "      <td>E07000175</td>\n",
              "      <td>ltla</td>\n",
              "      <td>2021-04-26</td>\n",
              "      <td>4</td>\n",
              "      <td>7292</td>\n",
              "      <td>5956.5</td>\n",
              "    </tr>\n",
              "    <tr>\n",
              "      <th>...</th>\n",
              "      <td>...</td>\n",
              "      <td>...</td>\n",
              "      <td>...</td>\n",
              "      <td>...</td>\n",
              "      <td>...</td>\n",
              "      <td>...</td>\n",
              "      <td>...</td>\n",
              "    </tr>\n",
              "    <tr>\n",
              "      <th>45292</th>\n",
              "      <td>Norfolk</td>\n",
              "      <td>E10000020</td>\n",
              "      <td>utla</td>\n",
              "      <td>2021-01-13</td>\n",
              "      <td>621</td>\n",
              "      <td>28630</td>\n",
              "      <td>3153.9</td>\n",
              "    </tr>\n",
              "    <tr>\n",
              "      <th>45293</th>\n",
              "      <td>Norfolk</td>\n",
              "      <td>E10000020</td>\n",
              "      <td>utla</td>\n",
              "      <td>2021-01-12</td>\n",
              "      <td>671</td>\n",
              "      <td>28009</td>\n",
              "      <td>3085.5</td>\n",
              "    </tr>\n",
              "    <tr>\n",
              "      <th>45294</th>\n",
              "      <td>Norfolk</td>\n",
              "      <td>E10000020</td>\n",
              "      <td>utla</td>\n",
              "      <td>2021-01-11</td>\n",
              "      <td>795</td>\n",
              "      <td>27338</td>\n",
              "      <td>3011.6</td>\n",
              "    </tr>\n",
              "    <tr>\n",
              "      <th>45295</th>\n",
              "      <td>Norfolk</td>\n",
              "      <td>E10000020</td>\n",
              "      <td>utla</td>\n",
              "      <td>2021-01-10</td>\n",
              "      <td>504</td>\n",
              "      <td>26543</td>\n",
              "      <td>2924.0</td>\n",
              "    </tr>\n",
              "    <tr>\n",
              "      <th>45296</th>\n",
              "      <td>Norfolk</td>\n",
              "      <td>E10000020</td>\n",
              "      <td>utla</td>\n",
              "      <td>2021-01-09</td>\n",
              "      <td>392</td>\n",
              "      <td>26039</td>\n",
              "      <td>2868.5</td>\n",
              "    </tr>\n",
              "  </tbody>\n",
              "</table>\n",
              "<p>45297 rows × 7 columns</p>\n",
              "</div>"
            ],
            "text/plain": [
              "                        Area name  Area code Area type Specimen date  \\\n",
              "0                  Stoke-on-Trent  E06000021      ltla    2021-04-26   \n",
              "1         Staffordshire Moorlands  E07000198      ltla    2021-04-26   \n",
              "2      Hackney and City of London  E09000012      ltla    2021-04-26   \n",
              "3         Staffordshire Moorlands  E07000198      ltla    2021-04-25   \n",
              "4             Newark and Sherwood  E07000175      ltla    2021-04-26   \n",
              "...                           ...        ...       ...           ...   \n",
              "45292                     Norfolk  E10000020      utla    2021-01-13   \n",
              "45293                     Norfolk  E10000020      utla    2021-01-12   \n",
              "45294                     Norfolk  E10000020      utla    2021-01-11   \n",
              "45295                     Norfolk  E10000020      utla    2021-01-10   \n",
              "45296                     Norfolk  E10000020      utla    2021-01-09   \n",
              "\n",
              "       Daily lab-confirmed cases  Cumulative lab-confirmed cases  \\\n",
              "0                              5                           20083   \n",
              "1                              5                            5351   \n",
              "2                              5                           21672   \n",
              "3                              6                            5346   \n",
              "4                              4                            7292   \n",
              "...                          ...                             ...   \n",
              "45292                        621                           28630   \n",
              "45293                        671                           28009   \n",
              "45294                        795                           27338   \n",
              "45295                        504                           26543   \n",
              "45296                        392                           26039   \n",
              "\n",
              "       Cumulative lab-confirmed cases rate  \n",
              "0                                   7833.4  \n",
              "1                                   5436.1  \n",
              "2                                   7451.5  \n",
              "3                                   5431.0  \n",
              "4                                   5956.5  \n",
              "...                                    ...  \n",
              "45292                               3153.9  \n",
              "45293                               3085.5  \n",
              "45294                               3011.6  \n",
              "45295                               2924.0  \n",
              "45296                               2868.5  \n",
              "\n",
              "[45297 rows x 7 columns]"
            ]
          },
          "execution_count": 18,
          "metadata": {},
          "output_type": "execute_result"
        }
      ],
      "source": [
        "df = pd.read_csv('https://coronavirus.data.gov.uk/downloads/csv/coronavirus-cases_latest.csv')\n",
        "df"
      ]
    },
    {
      "cell_type": "code",
      "execution_count": null,
      "metadata": {
        "id": "-lwdC8YRiWj-",
        "outputId": "5b95991c-dd06-41f8-8f60-078140f8bb1a",
        "colab": {
          "referenced_widgets": [
            "dd849c6d82e940ef9617f7978aedfb69"
          ]
        }
      },
      "outputs": [
        {
          "data": {
            "application/vnd.jupyter.widget-view+json": {
              "model_id": "dd849c6d82e940ef9617f7978aedfb69",
              "version_major": 2,
              "version_minor": 0
            },
            "text/plain": [
              "interactive(children=(Text(value='Daily lab-confirmed cases', description='column'), IntSlider(value=20, descr…"
            ]
          },
          "metadata": {},
          "output_type": "display_data"
        }
      ],
      "source": [
        "@interact\n",
        "def show_articles_more_than(column='Daily lab-confirmed cases', x=20):\n",
        "    return df.loc[df[column] > x]"
      ]
    },
    {
      "cell_type": "code",
      "execution_count": null,
      "metadata": {
        "id": "DEeOhXFaiWj-",
        "outputId": "42a59598-af70-4e27-8355-cbcb391345d0",
        "colab": {
          "referenced_widgets": [
            "32282259552d4e2c812a2ff7fc02bcc7"
          ]
        }
      },
      "outputs": [
        {
          "data": {
            "application/vnd.jupyter.widget-view+json": {
              "model_id": "32282259552d4e2c812a2ff7fc02bcc7",
              "version_major": 2,
              "version_minor": 0
            },
            "text/plain": [
              "interactive(children=(Text(value='Daily lab-confirmed cases', description='column'), IntSlider(value=10, descr…"
            ]
          },
          "metadata": {},
          "output_type": "display_data"
        }
      ],
      "source": [
        "# What if we want a custom min-max range for our slider?\n",
        "# https://ipywidgets.readthedocs.io/en/latest/examples/Using%20Interact.html\n",
        "\n",
        "@interact\n",
        "def show_articles_more_than(column='Daily lab-confirmed cases', x=widgets.IntSlider(min=0, max=1000, step=1, value=10)):\n",
        "    return df.loc[df[column] > x]"
      ]
    },
    {
      "cell_type": "code",
      "execution_count": null,
      "metadata": {
        "id": "VKw8uV2ciWj_",
        "outputId": "ced0e381-7ca9-4220-c246-126981b79d5d",
        "colab": {
          "referenced_widgets": [
            "da54702077fb47ebb20120d8f77e542e"
          ]
        }
      },
      "outputs": [
        {
          "data": {
            "application/vnd.jupyter.widget-view+json": {
              "model_id": "da54702077fb47ebb20120d8f77e542e",
              "version_major": 2,
              "version_minor": 0
            },
            "text/plain": [
              "interactive(children=(Text(value='Area name', description='column'), Dropdown(description='x', options=('Arun'…"
            ]
          },
          "metadata": {},
          "output_type": "display_data"
        }
      ],
      "source": [
        "@interact\n",
        "def show_for_place(column='Area name', x=sorted(df['Area name'].unique())):\n",
        "    return df.loc[df[column] == x]"
      ]
    },
    {
      "cell_type": "code",
      "execution_count": null,
      "metadata": {
        "id": "hqcPAr03iWj_",
        "outputId": "37811330-80eb-44d7-cb58-dd30e2c96a56"
      },
      "outputs": [
        {
          "name": "stdout",
          "output_type": "stream",
          "text": [
            "Requirement already satisfied: moviepy in c:\\python39\\lib\\site-packages (1.0.3)\n",
            "Requirement already satisfied: numpy>=1.17.3 in c:\\python39\\lib\\site-packages (from moviepy) (1.21.2)\n",
            "Requirement already satisfied: requests<3.0,>=2.8.1 in c:\\python39\\lib\\site-packages (from moviepy) (2.26.0)\n",
            "Requirement already satisfied: proglog<=1.0.0 in c:\\python39\\lib\\site-packages (from moviepy) (0.1.9)\n",
            "Requirement already satisfied: tqdm<5.0,>=4.11.2 in c:\\python39\\lib\\site-packages (from moviepy) (4.62.3)\n",
            "Requirement already satisfied: decorator<5.0,>=4.0.2 in c:\\python39\\lib\\site-packages (from moviepy) (4.4.2)\n",
            "Requirement already satisfied: imageio-ffmpeg>=0.2.0 in c:\\python39\\lib\\site-packages (from moviepy) (0.4.5)\n",
            "Requirement already satisfied: imageio<3.0,>=2.5 in c:\\python39\\lib\\site-packages (from moviepy) (2.12.0)\n",
            "Requirement already satisfied: pillow>=8.3.2 in c:\\python39\\lib\\site-packages (from imageio<3.0,>=2.5->moviepy) (8.4.0)\n",
            "Requirement already satisfied: charset-normalizer~=2.0.0 in c:\\python39\\lib\\site-packages (from requests<3.0,>=2.8.1->moviepy) (2.0.7)\n",
            "Requirement already satisfied: certifi>=2017.4.17 in c:\\python39\\lib\\site-packages (from requests<3.0,>=2.8.1->moviepy) (2021.10.8)\n",
            "Requirement already satisfied: idna<4,>=2.5 in c:\\python39\\lib\\site-packages (from requests<3.0,>=2.8.1->moviepy) (2.10)\n",
            "Requirement already satisfied: urllib3<1.27,>=1.21.1 in c:\\python39\\lib\\site-packages (from requests<3.0,>=2.8.1->moviepy) (1.26.7)\n",
            "Requirement already satisfied: colorama in c:\\python39\\lib\\site-packages (from tqdm<5.0,>=4.11.2->moviepy) (0.4.4)\n"
          ]
        }
      ],
      "source": [
        "!pip install moviepy\n",
        "\n",
        "import glob\n",
        "import moviepy.editor as mpy"
      ]
    },
    {
      "cell_type": "code",
      "execution_count": null,
      "metadata": {
        "id": "_CqqH-NbiWj_",
        "outputId": "28bb0057-ec89-4b7c-c62a-f91fb76a781d"
      },
      "outputs": [
        {
          "data": {
            "text/plain": [
              "[<matplotlib.lines.Line2D at 0x20eff4d7700>]"
            ]
          },
          "execution_count": 27,
          "metadata": {},
          "output_type": "execute_result"
        },
        {
          "data": {
            "image/png": "[encoded data removed]",
            "text/plain": [
              "<Figure size 1440x720 with 1 Axes>"
            ]
          },
          "metadata": {
            "needs_background": "light"
          },
          "output_type": "display_data"
        }
      ],
      "source": [
        "plt.figure(figsize=(20,10))\n",
        "data = df[df['Area type'] == 'utla']\n",
        "plt.xticks(rotation=90)\n",
        "plt.plot(data.groupby('Specimen date').sum()['Daily lab-confirmed cases'])"
      ]
    },
    {
      "cell_type": "code",
      "execution_count": null,
      "metadata": {
        "id": "g3VP5OlSiWkA",
        "outputId": "3bb02aa8-6ba6-4e47-ad8b-286af62a2757"
      },
      "outputs": [
        {
          "data": {
            "text/plain": [
              "Specimen date\n",
              "2021-01-09    392\n",
              "2021-01-10    504\n",
              "2021-01-11    795\n",
              "2021-01-12    671\n",
              "2021-01-13    621\n",
              "             ... \n",
              "2021-04-17     13\n",
              "2021-04-18     21\n",
              "2021-04-20     25\n",
              "2021-04-21     30\n",
              "2021-04-26     26\n",
              "Name: Daily lab-confirmed cases, Length: 69, dtype: int64"
            ]
          },
          "execution_count": 29,
          "metadata": {},
          "output_type": "execute_result"
        }
      ],
      "source": [
        "data = df[df['Area type'] == 'utla']\n",
        "output = data.groupby('Specimen date').sum()['Daily lab-confirmed cases']\n",
        "output"
      ]
    },
    {
      "cell_type": "code",
      "execution_count": null,
      "metadata": {
        "id": "GU1WxF08iWkA"
      },
      "outputs": [],
      "source": [
        "for i in range(len(output)):\n",
        "    oo = output[:i]\n",
        "    plt.xticks(rotation=90)\n",
        "    plt.plot(oo)\n",
        "    plt.savefig(f\"./pngs/{i}.png\")\n",
        "    plt.close()"
      ]
    },
    {
      "cell_type": "code",
      "execution_count": null,
      "metadata": {
        "id": "SlUu2bwYiWkA",
        "outputId": "9466b977-fc11-4280-d1a3-de72927fc8cb"
      },
      "outputs": [
        {
          "name": "stdout",
          "output_type": "stream",
          "text": [
            "MoviePy - Building file COVID.gif with imageio.\n"
          ]
        },
        {
          "name": "stderr",
          "output_type": "stream",
          "text": [
            "                                                                             \r"
          ]
        }
      ],
      "source": [
        "import os\n",
        "\n",
        "gif_name = 'COVID.gif'\n",
        "fps = 6\n",
        "file_list = sorted(glob.glob('./pngs/*.png'), key=os.path.getmtime)\n",
        "clip = mpy.ImageSequenceClip(file_list, fps=fps)\n",
        "clip.write_gif('{}'.format(gif_name), fps=fps)"
      ]
    },
    {
      "cell_type": "code",
      "execution_count": null,
      "metadata": {
        "id": "R_2DRQcxiWkB"
      },
      "outputs": [],
      "source": []
    }
  ],
  "metadata": {
    "kernelspec": {
      "display_name": "Python 3 (ipykernel)",
      "language": "python",
      "name": "python3"
    },
    "language_info": {
      "codemirror_mode": {
        "name": "ipython",
        "version": 3
      },
      "file_extension": ".py",
      "mimetype": "text/x-python",
      "name": "python",
      "nbconvert_exporter": "python",
      "pygments_lexer": "ipython3",
      "version": "3.9.7"
    },
    "colab": {
      "provenance": [],
      "include_colab_link": true
    }
  },
  "nbformat": 4,
  "nbformat_minor": 0
}